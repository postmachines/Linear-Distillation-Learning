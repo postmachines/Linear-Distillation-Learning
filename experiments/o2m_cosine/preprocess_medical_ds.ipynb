{
 "cells": [
  {
   "cell_type": "code",
   "execution_count": 24,
   "metadata": {},
   "outputs": [],
   "source": [
    "import pandas as pd\n",
    "pd.set_option('max_columns', 500)\n",
    "from os import listdir\n",
    "from os.path import isfile, join\n",
    "from datetime import datetime, timedelta"
   ]
  },
  {
   "cell_type": "code",
   "execution_count": 38,
   "metadata": {},
   "outputs": [],
   "source": [
    "path = './data/Medical/'"
   ]
  },
  {
   "cell_type": "code",
   "execution_count": 39,
   "metadata": {},
   "outputs": [
    {
     "name": "stderr",
     "output_type": "stream",
     "text": [
      "/nfs/home/iglukhov/anaconda3/lib/python3.8/site-packages/IPython/core/interactiveshell.py:3146: DtypeWarning: Columns (10) have mixed types.Specify dtype option on import or set low_memory=False.\n",
      "  has_raised = await self.run_ast_nodes(code_ast.body, cell_name,\n",
      "/nfs/home/iglukhov/anaconda3/lib/python3.8/site-packages/IPython/core/interactiveshell.py:3146: DtypeWarning: Columns (2) have mixed types.Specify dtype option on import or set low_memory=False.\n",
      "  has_raised = await self.run_ast_nodes(code_ast.body, cell_name,\n",
      "/nfs/home/iglukhov/anaconda3/lib/python3.8/site-packages/IPython/core/interactiveshell.py:3146: DtypeWarning: Columns (0,1,2,3,4,5,6,8,9,10,11,12,13,14,15,17,18,19,20,21,22,23,25,26,27,28,29,30,31,32,33,34,35,36,37,38,39,40,41,42,44,45,46,47,48,49,50,51,52,53) have mixed types.Specify dtype option on import or set low_memory=False.\n",
      "  has_raised = await self.run_ast_nodes(code_ast.body, cell_name,\n",
      "/nfs/home/iglukhov/anaconda3/lib/python3.8/site-packages/IPython/core/interactiveshell.py:3146: DtypeWarning: Columns (10,14) have mixed types.Specify dtype option on import or set low_memory=False.\n",
      "  has_raised = await self.run_ast_nodes(code_ast.body, cell_name,\n",
      "/nfs/home/iglukhov/anaconda3/lib/python3.8/site-packages/IPython/core/interactiveshell.py:3146: DtypeWarning: Columns (14,43) have mixed types.Specify dtype option on import or set low_memory=False.\n",
      "  has_raised = await self.run_ast_nodes(code_ast.body, cell_name,\n",
      "/nfs/home/iglukhov/anaconda3/lib/python3.8/site-packages/IPython/core/interactiveshell.py:3146: DtypeWarning: Columns (14) have mixed types.Specify dtype option on import or set low_memory=False.\n",
      "  has_raised = await self.run_ast_nodes(code_ast.body, cell_name,\n",
      "/nfs/home/iglukhov/anaconda3/lib/python3.8/site-packages/IPython/core/interactiveshell.py:3146: DtypeWarning: Columns (0,2) have mixed types.Specify dtype option on import or set low_memory=False.\n",
      "  has_raised = await self.run_ast_nodes(code_ast.body, cell_name,\n"
     ]
    }
   ],
   "source": [
    "datafiles = [f for f in listdir(path) if isfile(join(path, f)) and not '.xlsx' in f and not 'medical' in f]\n",
    "for i, file in enumerate(datafiles):\n",
    "    if i == 0:\n",
    "        df = pd.read_csv(path + datafiles[i])\n",
    "    else:\n",
    "        if i == 3:\n",
    "            df_new = pd.read_csv(path + datafiles[3], names=df.columns, skiprows=0).drop(0).reset_index().drop(columns=['index'])\n",
    "        else:\n",
    "            df_new = pd.read_csv(path + datafiles[i])\n",
    "        df = pd.concat([df, df_new])"
   ]
  },
  {
   "cell_type": "code",
   "execution_count": 40,
   "metadata": {},
   "outputs": [
    {
     "name": "stdout",
     "output_type": "stream",
     "text": [
      "shape dropped by 0.0303778112275025%\n",
      "state_code\n",
      "district_code\n",
      "rural_urban\n",
      "stratum\n",
      "ahs_house_unit\n",
      "house_hold_no\n",
      "test_salt_iodine\n",
      "record_code_iodine\n",
      "sl_no\n",
      "sex\n",
      "usual_residance\n",
      "age\n",
      "date_of_birth\n",
      "month_of_birth\n",
      "year_of_birth\n",
      "weight_measured\n",
      "weight_in_kg\n",
      "length_height_measured\n",
      "length_height_cm\n",
      "haemoglobin_test\n",
      "haemoglobin\n",
      "haemoglobin_level\n",
      "bp_systolic\n",
      "bp_systolic_2_reading\n",
      "bp_diastolic\n",
      "bp_diastolic_2reading\n",
      "pulse_rate\n",
      "pulse_rate_2_reading\n",
      "diabetes_test\n",
      "fasting_blood_glucose\n",
      "fasting_blood_glucose_mg_dl\n",
      "marital_status\n",
      "gauna_perfor_not_perfor\n",
      "duration_pregnanacy\n",
      "first_breast_feeding\n",
      "is_cur_breast_feeding\n",
      "water_month\n",
      "ani_milk_month\n",
      "semisolid_month_or_day\n",
      "solid_month\n",
      "vegetables_month_or_day\n",
      "illness_type\n",
      "illness_duration\n",
      "treatment_type\n",
      "v54\n",
      "day_or_month_for_breast_feeding\n"
     ]
    }
   ],
   "source": [
    "shape_before = df.shape[0]\n",
    "df = df[(df['state_code'] != 'NOT AT HOME') & (df['state_code'] != 'MARRIED')]\n",
    "df = df[(df['identification_code'] != 'S HOUSE') & (df['identification_code'] != 'MARRIED')]\n",
    "\n",
    "df = df[(df['state_code'].notna()) & (df['identification_code'].notna())& (df['day_or_month_for_breast_feeding'].notna())]\n",
    "df = df.drop(columns=['record_code_iodine_reason', 'usual_residance_reason', 'psu_id', 'identification_code'])\n",
    "\n",
    "print(f'shape dropped by {-100* (df.shape[0] - shape_before) / shape_before}%')\n",
    "\n",
    "df['v54'] = df['v54'].fillna(1)\n",
    "\n",
    "df['day_or_month_for_breast_feeding_'] = df['day_or_month_for_breast_feeding_'].apply(lambda x: '-1' if x == -1 else x)\n",
    "df = pd.concat([df.drop(columns=['day_or_month_for_breast_feeding_']), pd.get_dummies(df['day_or_month_for_breast_feeding_'], prefix='day_or_month_for_breast_feeding_')], axis=1)\n",
    "\n",
    "df = pd.concat([df, pd.get_dummies(df['length_height_code'], prefix='length_height_code')], axis=1).drop(columns=['length_height_code'])\n",
    "df = pd.concat([df, pd.get_dummies(df['age_code'], prefix='age_code')], axis=1).drop(columns=['age_code'])\n",
    "\n",
    "df['date_survey'] = pd.to_datetime(df['date_survey'], infer_datetime_format=True)\n",
    "date_max = df['date_survey'].max()\n",
    "df['date_survey'] = df['date_survey'].apply(lambda x: (date_max - x))\n",
    "df['date_survey'] = df['date_survey'].dt.days\n",
    "\n",
    "numeric_cols = ['state_code', 'district_code', 'rural_urban', 'stratum',\n",
    "       'ahs_house_unit', 'house_hold_no', 'test_salt_iodine',\n",
    "       'record_code_iodine', 'sl_no', 'sex',\n",
    "       'usual_residance', 'age', 'date_of_birth', 'month_of_birth', \n",
    "       'year_of_birth',\n",
    "       'weight_measured', 'weight_in_kg', 'length_height_measured',\n",
    "                'length_height_cm', 'haemoglobin_test',\n",
    "       'haemoglobin', 'haemoglobin_level', 'bp_systolic',\n",
    "       'bp_systolic_2_reading', 'bp_diastolic', 'bp_diastolic_2reading',\n",
    "       'pulse_rate', 'pulse_rate_2_reading', 'diabetes_test',\n",
    "       'fasting_blood_glucose', 'fasting_blood_glucose_mg_dl',\n",
    "       'marital_status', 'gauna_perfor_not_perfor', 'duration_pregnanacy',\n",
    "       'first_breast_feeding', 'is_cur_breast_feeding',\n",
    "       'water_month', 'ani_milk_month', 'semisolid_month_or_day',\n",
    "       'solid_month', 'vegetables_month_or_day', 'illness_type',\n",
    "       'illness_duration', 'treatment_type', 'v54', \n",
    "               'day_or_month_for_breast_feeding']\n",
    "\n",
    "for c in numeric_cols:\n",
    "    print(c)\n",
    "    df[c] = df[c].astype(float)\n",
    "    \n",
    "df = df[(df['illness_type'] != 11) & (df['illness_type'] != -1)]\n",
    "df = df.rename(columns={'illness_type': 'target'})\n",
    "\n",
    "features = [elem for elem in df.columns if elem != 'target']\n",
    "df[features]=(df[features]-df[features].mean())/df[features].std()\n",
    "df = df[df['target'].notna()]\n",
    "df = df.reset_index().drop(columns=['index'])\n",
    "df['target'] = df['target'].astype(int)"
   ]
  },
  {
   "cell_type": "code",
   "execution_count": 41,
   "metadata": {},
   "outputs": [
    {
     "data": {
      "text/plain": [
       "0    67631\n",
       "2    10212\n",
       "3     6302\n",
       "1     5941\n",
       "4     1180\n",
       "5      350\n",
       "Name: target, dtype: int64"
      ]
     },
     "execution_count": 41,
     "metadata": {},
     "output_type": "execute_result"
    }
   ],
   "source": [
    "df['target'].value_counts()"
   ]
  },
  {
   "cell_type": "code",
   "execution_count": 42,
   "metadata": {},
   "outputs": [],
   "source": [
    "df_class_0_under = df[df['target'] == 0].sample(5000, replace=False, random_state=0)\n",
    "df = pd.concat([df_class_0_under, df[df['target'] != 0]], axis=0)"
   ]
  },
  {
   "cell_type": "code",
   "execution_count": 43,
   "metadata": {},
   "outputs": [],
   "source": [
    "df_class_2_under = df[df['target'] == 2].sample(5000, replace=False, random_state=0)\n",
    "df = pd.concat([df_class_2_under, df[df['target'] != 2]], axis=0)"
   ]
  },
  {
   "cell_type": "code",
   "execution_count": 44,
   "metadata": {},
   "outputs": [],
   "source": [
    "df_class_3_under = df[df['target'] == 3].sample(5000, replace=False, random_state=0)\n",
    "df = pd.concat([df_class_3_under, df[df['target'] != 3]], axis=0)"
   ]
  },
  {
   "cell_type": "code",
   "execution_count": 45,
   "metadata": {},
   "outputs": [],
   "source": [
    "df_class_1_under = df[df['target'] == 1].sample(5000, replace=False, random_state=0)\n",
    "df = pd.concat([df_class_1_under, df[df['target'] != 1]], axis=0)"
   ]
  },
  {
   "cell_type": "code",
   "execution_count": 46,
   "metadata": {},
   "outputs": [],
   "source": [
    "df_class_4_over = df[df['target'] == 4].sample(5000, replace=True, random_state=0)\n",
    "df = pd.concat([df_class_4_over, df[df['target'] != 4]], axis=0)"
   ]
  },
  {
   "cell_type": "code",
   "execution_count": 47,
   "metadata": {},
   "outputs": [],
   "source": [
    "df_class_5_over = df[df['target'] == 5].sample(5000, replace=True, random_state=0)\n",
    "df = pd.concat([df_class_5_over, df[df['target'] != 5]], axis=0)"
   ]
  },
  {
   "cell_type": "code",
   "execution_count": 48,
   "metadata": {
    "scrolled": true
   },
   "outputs": [
    {
     "data": {
      "text/plain": [
       "(30000, 60)"
      ]
     },
     "execution_count": 48,
     "metadata": {},
     "output_type": "execute_result"
    }
   ],
   "source": [
    "df.shape"
   ]
  },
  {
   "cell_type": "code",
   "execution_count": 51,
   "metadata": {},
   "outputs": [
    {
     "data": {
      "text/plain": [
       "29700"
      ]
     },
     "execution_count": 51,
     "metadata": {},
     "output_type": "execute_result"
    }
   ],
   "source": [
    "int(0.99 * len(df))"
   ]
  },
  {
   "cell_type": "code",
   "execution_count": 52,
   "metadata": {},
   "outputs": [
    {
     "data": {
      "text/plain": [
       "300"
      ]
     },
     "execution_count": 52,
     "metadata": {},
     "output_type": "execute_result"
    }
   ],
   "source": [
    "len(df) - int(0.99 * len(df)) "
   ]
  },
  {
   "cell_type": "code",
   "execution_count": null,
   "metadata": {},
   "outputs": [],
   "source": [
    "73292 - 300 * (73292 // 300)"
   ]
  },
  {
   "cell_type": "code",
   "execution_count": 49,
   "metadata": {},
   "outputs": [
    {
     "data": {
      "text/plain": [
       "0    5000\n",
       "1    5000\n",
       "2    5000\n",
       "3    5000\n",
       "4    5000\n",
       "5    5000\n",
       "Name: target, dtype: int64"
      ]
     },
     "execution_count": 49,
     "metadata": {},
     "output_type": "execute_result"
    }
   ],
   "source": [
    "df['target'].value_counts()"
   ]
  },
  {
   "cell_type": "code",
   "execution_count": null,
   "metadata": {},
   "outputs": [],
   "source": [
    "df"
   ]
  },
  {
   "cell_type": "code",
   "execution_count": 50,
   "metadata": {},
   "outputs": [],
   "source": [
    "df.to_csv(path + 'medical_preprocessed.csv', index=False)"
   ]
  },
  {
   "cell_type": "code",
   "execution_count": null,
   "metadata": {},
   "outputs": [],
   "source": []
  }
 ],
 "metadata": {
  "kernelspec": {
   "display_name": "Python 3",
   "language": "python",
   "name": "python3"
  },
  "language_info": {
   "codemirror_mode": {
    "name": "ipython",
    "version": 3
   },
   "file_extension": ".py",
   "mimetype": "text/x-python",
   "name": "python",
   "nbconvert_exporter": "python",
   "pygments_lexer": "ipython3",
   "version": "3.8.5"
  }
 },
 "nbformat": 4,
 "nbformat_minor": 4
}
