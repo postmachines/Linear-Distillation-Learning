{
 "cells": [
  {
   "cell_type": "code",
   "execution_count": 80,
   "metadata": {},
   "outputs": [],
   "source": [
    "from tqdm import tqdm\n",
    "import numpy as np\n",
    "import pandas as pd\n",
    "import torch\n",
    "import shap\n",
    "import torch.nn as nn\n",
    "\n",
    "from train import train, test\n",
    "from sklearn.model_selection import train_test_split\n",
    "from ldl.data import get_episodic_loader\n",
    "from ldl.data.customer import get_dataset\n",
    "from ldl.models import RNDModel\n",
    "import matplotlib.pyplot as plt\n",
    "\n",
    "from sklearn.linear_model import LogisticRegression\n",
    "from sklearn.metrics import accuracy_score"
   ]
  },
  {
   "cell_type": "code",
   "execution_count": 20,
   "metadata": {},
   "outputs": [],
   "source": [
    "np.random.seed(3)\n",
    "\n",
    "customer = get_dataset()\n",
    "\n",
    "customer_train = customer.iloc[:6031]\n",
    "customer_test = customer.iloc[6031:]\n",
    "\n",
    "customer_train_torch = torch.tensor(customer_train.drop(columns=['target']).values, dtype=torch.float32)\n",
    "y_train = torch.tensor(customer_train['target'].values)\n",
    "customer_test_torch = torch.tensor(customer_test.drop(columns=['target']).values, dtype=torch.float32)\n",
    "y_test = torch.tensor(customer_test['target'].values)\n",
    "\n",
    "inds = np.random.permutation(customer_train_torch.shape[0])\n",
    "samples_train = list(zip(customer_train_torch[inds], y_train[inds]))\n",
    "samples_test = list(zip(customer_test_torch, y_test))"
   ]
  },
  {
   "cell_type": "code",
   "execution_count": 341,
   "metadata": {},
   "outputs": [],
   "source": [
    "dataset = 'customer'\n",
    "way = 2\n",
    "train_shot = 1200\n",
    "test_shot = 500\n",
    "mse_loss = nn.MSELoss(reduction='none')\n",
    "trials = 1\n",
    "epochs = 1\n",
    "silent = True\n",
    "split = 'train'\n",
    "add_rotations = False\n",
    "in_alphabet = False\n",
    "x_dim = 41\n",
    "z_dim = 2000\n",
    "c = 1\n",
    "optimizer = 'adam'\n",
    "lr = 1e-05\n",
    "initialization = 'xavier_normal'\n",
    "gpu = 2\n",
    "\n",
    "device = torch.device(f\"cuda:{gpu}\" if torch.cuda.is_available() else \"cpu\")"
   ]
  },
  {
   "cell_type": "code",
   "execution_count": 342,
   "metadata": {},
   "outputs": [],
   "source": [
    "model = RNDModel(way, in_dim=x_dim, out_dim=z_dim, opt=optimizer,\n",
    "                 lr=lr, initialization=initialization)#, dld=dld)\n",
    "model.to(device)"
   ]
  },
  {
   "cell_type": "code",
   "execution_count": 343,
   "metadata": {
    "scrolled": true
   },
   "outputs": [
    {
     "name": "stdout",
     "output_type": "stream",
     "text": [
      "Train Epoch: 1 [0/6031 (0%)]\tLoss: 8.479777\n",
      "Train Epoch: 1 [100/6031 (2%)]\tLoss: 29.799536\n",
      "Train Epoch: 1 [200/6031 (3%)]\tLoss: 30.580549\n",
      "Train Epoch: 1 [300/6031 (5%)]\tLoss: 26.309353\n",
      "Train Epoch: 1 [400/6031 (7%)]\tLoss: 8.826086\n",
      "Train Epoch: 1 [500/6031 (8%)]\tLoss: 19.313129\n",
      "Train Epoch: 1 [600/6031 (10%)]\tLoss: 28.087805\n",
      "Train Epoch: 1 [700/6031 (12%)]\tLoss: 19.022846\n",
      "Train Epoch: 1 [800/6031 (13%)]\tLoss: 5.776276\n",
      "Train Epoch: 1 [900/6031 (15%)]\tLoss: 5.682871\n",
      "Train Epoch: 1 [1000/6031 (17%)]\tLoss: 38.333771\n",
      "Train Epoch: 1 [1100/6031 (18%)]\tLoss: 42.352448\n",
      "Train Epoch: 1 [1200/6031 (20%)]\tLoss: 21.052864\n",
      "Train Epoch: 1 [1300/6031 (22%)]\tLoss: 7.167139\n",
      "Train Epoch: 1 [1400/6031 (23%)]\tLoss: 0.240438\n",
      "Train Epoch: 1 [1500/6031 (25%)]\tLoss: 3.584263\n",
      "Train Epoch: 1 [1600/6031 (27%)]\tLoss: 37.064766\n",
      "Train Epoch: 1 [1700/6031 (28%)]\tLoss: 9.542103\n",
      "Train Epoch: 1 [1800/6031 (30%)]\tLoss: 1.348743\n",
      "Train Epoch: 1 [1900/6031 (32%)]\tLoss: 0.157028\n",
      "Train Epoch: 1 [2000/6031 (33%)]\tLoss: 0.212222\n",
      "Train Epoch: 1 [2100/6031 (35%)]\tLoss: 18.933941\n",
      "Train Epoch: 1 [2200/6031 (36%)]\tLoss: 22.170689\n",
      "Train Epoch: 1 [2300/6031 (38%)]\tLoss: 13.725166\n",
      "Train Epoch: 1 [2400/6031 (40%)]\tLoss: 0.144318\n",
      "Train Epoch: 1 [2500/6031 (41%)]\tLoss: 36.467232\n",
      "Train Epoch: 1 [2600/6031 (43%)]\tLoss: 5.991078\n",
      "Train Epoch: 1 [2700/6031 (45%)]\tLoss: 0.151039\n",
      "Train Epoch: 1 [2800/6031 (46%)]\tLoss: 35.097477\n",
      "Train Epoch: 1 [2900/6031 (48%)]\tLoss: 0.152020\n",
      "Train Epoch: 1 [3000/6031 (50%)]\tLoss: 30.513563\n",
      "Train Epoch: 1 [3100/6031 (51%)]\tLoss: 7.426104\n",
      "Train Epoch: 1 [3200/6031 (53%)]\tLoss: 0.404516\n",
      "Train Epoch: 1 [3300/6031 (55%)]\tLoss: 0.179019\n",
      "Train Epoch: 1 [3400/6031 (56%)]\tLoss: 0.409359\n",
      "Train Epoch: 1 [3500/6031 (58%)]\tLoss: 9.382171\n",
      "Train Epoch: 1 [3600/6031 (60%)]\tLoss: 26.602087\n",
      "Train Epoch: 1 [3700/6031 (61%)]\tLoss: 19.643845\n",
      "Train Epoch: 1 [3800/6031 (63%)]\tLoss: 29.174717\n",
      "Train Epoch: 1 [3900/6031 (65%)]\tLoss: 1.175487\n",
      "Train Epoch: 1 [4000/6031 (66%)]\tLoss: 0.284085\n",
      "Train Epoch: 1 [4100/6031 (68%)]\tLoss: 19.146416\n",
      "Train Epoch: 1 [4200/6031 (70%)]\tLoss: 0.159066\n",
      "Train Epoch: 1 [4300/6031 (71%)]\tLoss: 18.089966\n",
      "Train Epoch: 1 [4400/6031 (73%)]\tLoss: 28.861897\n",
      "Train Epoch: 1 [4500/6031 (75%)]\tLoss: 0.295912\n",
      "Train Epoch: 1 [4600/6031 (76%)]\tLoss: 13.944100\n",
      "Train Epoch: 1 [4700/6031 (78%)]\tLoss: 0.179566\n",
      "Train Epoch: 1 [4800/6031 (80%)]\tLoss: 28.253929\n",
      "Train Epoch: 1 [4900/6031 (81%)]\tLoss: 25.914955\n",
      "Train Epoch: 1 [5000/6031 (83%)]\tLoss: 0.172582\n",
      "Train Epoch: 1 [5100/6031 (85%)]\tLoss: 21.420519\n",
      "Train Epoch: 1 [5200/6031 (86%)]\tLoss: 2.066573\n",
      "Train Epoch: 1 [5300/6031 (88%)]\tLoss: 1.053586\n",
      "Train Epoch: 1 [5400/6031 (90%)]\tLoss: 0.157155\n",
      "Train Epoch: 1 [5500/6031 (91%)]\tLoss: 0.152993\n",
      "Train Epoch: 1 [5600/6031 (93%)]\tLoss: 9.059549\n",
      "Train Epoch: 1 [5700/6031 (95%)]\tLoss: 4.206762\n",
      "Train Epoch: 1 [5800/6031 (96%)]\tLoss: 0.323184\n",
      "Train Epoch: 1 [5900/6031 (98%)]\tLoss: 4.985737\n",
      "Train Epoch: 1 [6000/6031 (99%)]\tLoss: 0.137960\n"
     ]
    }
   ],
   "source": [
    "train(model, loss_func=mse_loss, train_loader=samples_train, epochs=epochs,\n",
    "      silent=False, device=device)"
   ]
  },
  {
   "cell_type": "code",
   "execution_count": 344,
   "metadata": {},
   "outputs": [],
   "source": [
    "accuracy_o2m = test(model, samples_test, silent=silent, device=device)"
   ]
  },
  {
   "cell_type": "code",
   "execution_count": 345,
   "metadata": {},
   "outputs": [
    {
     "data": {
      "text/plain": [
       "0.7752247752247752"
      ]
     },
     "execution_count": 345,
     "metadata": {},
     "output_type": "execute_result"
    }
   ],
   "source": [
    "accuracy_o2m"
   ]
  },
  {
   "cell_type": "markdown",
   "metadata": {},
   "source": [
    "### Logreg"
   ]
  },
  {
   "cell_type": "code",
   "execution_count": 311,
   "metadata": {},
   "outputs": [],
   "source": [
    "logreg = LogisticRegression()"
   ]
  },
  {
   "cell_type": "code",
   "execution_count": 312,
   "metadata": {},
   "outputs": [
    {
     "name": "stderr",
     "output_type": "stream",
     "text": [
      "/nfs/home/iglukhov/anaconda3/lib/python3.8/site-packages/sklearn/linear_model/_logistic.py:763: ConvergenceWarning: lbfgs failed to converge (status=1):\n",
      "STOP: TOTAL NO. of ITERATIONS REACHED LIMIT.\n",
      "\n",
      "Increase the number of iterations (max_iter) or scale the data as shown in:\n",
      "    https://scikit-learn.org/stable/modules/preprocessing.html\n",
      "Please also refer to the documentation for alternative solver options:\n",
      "    https://scikit-learn.org/stable/modules/linear_model.html#logistic-regression\n",
      "  n_iter_i = _check_optimize_result(\n"
     ]
    },
    {
     "data": {
      "text/plain": [
       "LogisticRegression()"
      ]
     },
     "execution_count": 312,
     "metadata": {},
     "output_type": "execute_result"
    }
   ],
   "source": [
    "logreg.fit(customer_train.drop(columns=['target']), customer_train['target'])"
   ]
  },
  {
   "cell_type": "code",
   "execution_count": 313,
   "metadata": {},
   "outputs": [
    {
     "data": {
      "text/plain": [
       "0.8081918081918081"
      ]
     },
     "execution_count": 313,
     "metadata": {},
     "output_type": "execute_result"
    }
   ],
   "source": [
    "accuracy_score(customer_test['target'].values, logreg.predict(customer_test.drop(columns=['target'])))"
   ]
  },
  {
   "cell_type": "markdown",
   "metadata": {},
   "source": [
    "### feature importances"
   ]
  },
  {
   "cell_type": "code",
   "execution_count": 314,
   "metadata": {},
   "outputs": [
    {
     "name": "stderr",
     "output_type": "stream",
     "text": [
      "<ipython-input-314-1794565041d6>:8: UserWarning: To copy construct from a tensor, it is recommended to use sourceTensor.clone().detach() or sourceTensor.clone().detach().requires_grad_(True), rather than torch.tensor(sourceTensor).\n",
      "  np_params_w = torch.tensor(params[0]).cpu().numpy()\n",
      "<ipython-input-314-1794565041d6>:9: UserWarning: To copy construct from a tensor, it is recommended to use sourceTensor.clone().detach() or sourceTensor.clone().detach().requires_grad_(True), rather than torch.tensor(sourceTensor).\n",
      "  np_params_b = torch.tensor(params[1]).cpu().numpy()\n"
     ]
    }
   ],
   "source": [
    "feat_mean_weight = {}\n",
    "for k in model.predictors.keys():\n",
    "\n",
    "    params = []\n",
    "    for name, param in model.predictors['class_0'].named_parameters():\n",
    "        params.append(param)\n",
    "\n",
    "    np_params_w = torch.tensor(params[0]).cpu().numpy()\n",
    "    np_params_b = torch.tensor(params[1]).cpu().numpy()\n",
    "\n",
    "    feat_mean_weight[k] = np_params_w.sum(axis=0)"
   ]
  },
  {
   "cell_type": "code",
   "execution_count": 340,
   "metadata": {},
   "outputs": [
    {
     "data": {
      "text/plain": [
       "(1000, 41)"
      ]
     },
     "execution_count": 340,
     "metadata": {},
     "output_type": "execute_result"
    }
   ],
   "source": [
    "np_params_w.shape"
   ]
  },
  {
   "cell_type": "code",
   "execution_count": 315,
   "metadata": {},
   "outputs": [
    {
     "data": {
      "text/plain": [
       "array([-2.2201028 , -0.8779499 , -0.6036719 ,  1.2516596 ,  6.4598227 ,\n",
       "       -1.0800003 , -0.3707913 ,  3.8421052 , -0.21222216, -0.195796  ,\n",
       "       -1.918729  ,  2.1760402 ,  0.7779923 ,  3.276273  ,  0.75920343,\n",
       "       -2.9100428 , -0.8321053 ,  0.2146434 , -1.7973647 ,  0.46493262,\n",
       "       -3.9075015 , -1.2484593 , -1.0783309 , -1.5819851 , -2.1932263 ,\n",
       "       -2.405542  , -1.1326358 , -5.4585767 , -5.0722437 , -0.38744995,\n",
       "       -4.0824246 ,  0.7816019 , -2.3374655 ,  3.4639735 ,  1.6862136 ,\n",
       "        2.001897  , -3.2179227 , -3.6552835 , -3.2758298 , -4.0568705 ,\n",
       "       -3.3336997 ], dtype=float32)"
      ]
     },
     "execution_count": 315,
     "metadata": {},
     "output_type": "execute_result"
    }
   ],
   "source": [
    "feat_mean_weight['class_0']"
   ]
  },
  {
   "cell_type": "code",
   "execution_count": 316,
   "metadata": {},
   "outputs": [],
   "source": [
    "feat_mean_weight_overall = np.abs(feat_mean_weight['class_0'] + feat_mean_weight['class_1'])"
   ]
  },
  {
   "cell_type": "code",
   "execution_count": 317,
   "metadata": {},
   "outputs": [],
   "source": [
    "customer_test_no_target = customer_test.drop(columns=['target'])\n",
    "cols = customer_test_no_target.columns\n",
    "importances_o2m = {}\n",
    "for i,v in enumerate(feat_mean_weight_overall):\n",
    "    importances_o2m[cols[i]] = v"
   ]
  },
  {
   "cell_type": "code",
   "execution_count": 318,
   "metadata": {},
   "outputs": [
    {
     "data": {
      "text/plain": [
       "(1000, 41)"
      ]
     },
     "execution_count": 318,
     "metadata": {},
     "output_type": "execute_result"
    }
   ],
   "source": [
    "np_params_w.shape"
   ]
  },
  {
   "cell_type": "markdown",
   "metadata": {},
   "source": [
    "### importance comparison"
   ]
  },
  {
   "cell_type": "code",
   "execution_count": 319,
   "metadata": {
    "scrolled": true
   },
   "outputs": [
    {
     "name": "stdout",
     "output_type": "stream",
     "text": [
      "Contract_Two year 0.7281629136886518\n",
      "TotalCharges 0.6811324428661713\n",
      "Contract_Month-to-month 0.619076790075967\n",
      "PaperlessBilling 0.37576140454837087\n",
      "InternetService_Fiber optic 0.36127506718294267\n",
      "InternetService_DSL 0.36050970027701723\n",
      "PaymentMethod_Electronic check 0.2627921332882113\n",
      "TechSupport_No 0.22999197429056353\n",
      "TechSupport_Yes 0.22922660738461983\n",
      "MultipleLines_No 0.22608645100586588\n",
      "PhoneService_Yes 0.22563314878848506\n",
      "OnlineSecurity_No 0.2051413130783767\n",
      "OnlineSecurity_Yes 0.20437594617243576\n",
      "SeniorCitizen 0.19951396557559237\n",
      "PaymentMethod_Credit card (automatic) 0.16356476403651593\n",
      "PhoneService_No 0.1321887237365762\n",
      "MultipleLines_No phone service 0.1321887237365762\n",
      "Dependents 0.12884300524945627\n",
      "PaymentMethod_Mailed check 0.12002714832811355\n",
      "StreamingTV_Yes 0.09515528321937279\n",
      "OnlineBackup_No 0.09514080934523199\n",
      "StreamingTV_No 0.09438991631343145\n",
      "OnlineBackup_Yes 0.09437544243928594\n",
      "InternetService_No 0.0942097919578348\n",
      "OnlineSecurity_No internet service 0.0942097919578348\n",
      "OnlineBackup_No internet service 0.0942097919578348\n",
      "DeviceProtection_No internet service 0.0942097919578348\n",
      "TechSupport_No internet service 0.0942097919578348\n",
      "StreamingTV_No internet service 0.0942097919578348\n",
      "StreamingMovies_No internet service 0.0942097919578348\n",
      "StreamingMovies_Yes 0.0849195160473891\n",
      "StreamingMovies_No 0.08415414914144509\n",
      "PaymentMethod_Bank transfer (automatic) 0.07264464597546029\n",
      "MonthlyCharges 0.06700822060072015\n",
      "tenure 0.05828426287951307\n",
      "gender 0.027832244636236222\n",
      "Partner 0.025357119925422302\n",
      "DeviceProtection_No 0.019590243285371973\n",
      "DeviceProtection_Yes 0.01882487637942487\n",
      "Contract_One year 0.015641698560741716\n",
      "MultipleLines_Yes 0.00045330221740806295\n"
     ]
    },
    {
     "data": {
      "text/plain": [
       "<Figure size 1440x1080 with 0 Axes>"
      ]
     },
     "metadata": {},
     "output_type": "display_data"
    }
   ],
   "source": [
    "# get importance\n",
    "plt.figure(figsize=(20, 15))\n",
    "weights = np.abs(logreg.coef_[0])\n",
    "# summarize feature importance\n",
    "customer_test_no_target = customer_test.drop(columns=['target'])\n",
    "cols = customer_test_no_target.columns\n",
    "importances = {}\n",
    "for i,v in enumerate(weights):\n",
    "    importances[cols[i]] = v\n",
    "for k in sorted(importances, key=importances.get, reverse=True):\n",
    "    print(k, importances[k])"
   ]
  },
  {
   "cell_type": "code",
   "execution_count": 320,
   "metadata": {
    "scrolled": true
   },
   "outputs": [
    {
     "name": "stdout",
     "output_type": "stream",
     "text": [
      "tenure 12.919645\n",
      "TechSupport_Yes 10.917153\n",
      "StreamingTV_No 10.144487\n",
      "StreamingTV_Yes 8.164849\n",
      "PaymentMethod_Electronic check 8.113741\n",
      "OnlineBackup_No internet service 7.815003\n",
      "TotalCharges 7.6842103\n",
      "PaymentMethod_Bank transfer (automatic) 7.310567\n",
      "StreamingMovies_Yes 6.927947\n",
      "PaymentMethod_Mailed check 6.6673994\n",
      "InternetService_DSL 6.552546\n",
      "PaymentMethod_Credit card (automatic) 6.5516596\n",
      "Contract_Two year 6.4358454\n",
      "InternetService_No 5.8200855\n",
      "TechSupport_No 4.811084\n",
      "StreamingMovies_No internet service 4.674931\n",
      "gender 4.4402056\n",
      "DeviceProtection_Yes 4.3864527\n",
      "MultipleLines_No phone service 4.3520803\n",
      "Contract_One year 4.003794\n",
      "MultipleLines_No 3.837458\n",
      "OnlineSecurity_Yes 3.5947294\n",
      "Contract_Month-to-month 3.3724272\n",
      "DeviceProtection_No internet service 3.1639702\n",
      "Dependents 2.5033193\n",
      "OnlineBackup_Yes 2.4969187\n",
      "TechSupport_No internet service 2.2652717\n",
      "PaperlessBilling 2.1600006\n",
      "DeviceProtection_No 2.1566617\n",
      "SeniorCitizen 1.7558998\n",
      "OnlineSecurity_No 1.6642106\n",
      "StreamingMovies_No 1.5632038\n",
      "MultipleLines_Yes 1.5559846\n",
      "InternetService_Fiber optic 1.5184069\n",
      "Partner 1.2073438\n",
      "OnlineBackup_No 0.92986524\n",
      "StreamingTV_No internet service 0.7748999\n",
      "MonthlyCharges 0.7415826\n",
      "OnlineSecurity_No internet service 0.4292868\n",
      "PhoneService_No 0.42444432\n",
      "PhoneService_Yes 0.391592\n"
     ]
    }
   ],
   "source": [
    "for k in sorted(importances_o2m, key=importances_o2m.get, reverse=True):\n",
    "    print(k, importances_o2m[k])"
   ]
  },
  {
   "cell_type": "code",
   "execution_count": 321,
   "metadata": {},
   "outputs": [],
   "source": [
    "norm_o2m = [float(i)/sum(feat_mean_weight_overall) for i in feat_mean_weight_overall]\n",
    "norm_logreg = [float(i)/sum(weights) for i in weights]"
   ]
  },
  {
   "cell_type": "code",
   "execution_count": 322,
   "metadata": {
    "scrolled": false
   },
   "outputs": [
    {
     "name": "stderr",
     "output_type": "stream",
     "text": [
      "<ipython-input-322-9a485b8e2e71>:3: MatplotlibDeprecationWarning: Adding an axes using the same arguments as a previous axes currently reuses the earlier instance.  In a future version, a new instance will always be created and returned.  Meanwhile, this warning can be suppressed, and the future behavior ensured, by passing a unique label to each axes instance.\n",
      "  ax = plt.subplot(111)\n"
     ]
    },
    {
     "data": {
      "image/png": "[encoded data removed]",
      "text/plain": [
       "<Figure size 1440x720 with 1 Axes>"
      ]
     },
     "metadata": {
      "needs_background": "light"
     },
     "output_type": "display_data"
    }
   ],
   "source": [
    "plt.figure(figsize=(20, 10))\n",
    "plt.xticks(rotation=90)\n",
    "ax = plt.subplot(111)\n",
    "ax.set_xticks(np.arange(len(weights)))\n",
    "ax.bar(np.arange(len(norm_o2m))+0.1, norm_o2m, width=0.2, color='b', align='center', label='o2m')\n",
    "ax.bar(np.arange(len(norm_logreg))-0.1, norm_logreg, width=0.2, color='r', align='center', label='logreg')\n",
    "ax.set_xticklabels([cols[x] for x in range(len(weights))])\n",
    "ax.legend()\n",
    "plt.show()\n"
   ]
  },
  {
   "cell_type": "markdown",
   "metadata": {},
   "source": [
    "### test top 5 top 10 features"
   ]
  },
  {
   "cell_type": "code",
   "execution_count": 332,
   "metadata": {},
   "outputs": [],
   "source": [
    "logreg_top2 = sorted(importances, key=importances.get, reverse=True)[:2]\n",
    "o2m_top2 = sorted(importances_o2m, key=importances_o2m.get, reverse=True)[:2]\n",
    "logreg_top5 = sorted(importances, key=importances.get, reverse=True)[:5]\n",
    "o2m_top5 = sorted(importances_o2m, key=importances_o2m.get, reverse=True)[:5]\n",
    "logreg_top10 = sorted(importances, key=importances.get, reverse=True)[:10]\n",
    "o2m_top10 = sorted(importances_o2m, key=importances_o2m.get, reverse=True)[:10]"
   ]
  },
  {
   "cell_type": "code",
   "execution_count": 327,
   "metadata": {},
   "outputs": [
    {
     "data": {
      "text/html": [
       "['Contract_Two year', 'TotalCharges', 'Contract_Month-to-month', 'PaperlessBilling', 'InternetService_Fiber optic']"
      ],
      "text/plain": [
       "['Contract_Two year',\n",
       " 'TotalCharges',\n",
       " 'Contract_Month-to-month',\n",
       " 'PaperlessBilling',\n",
       " 'InternetService_Fiber optic']"
      ]
     },
     "execution_count": 327,
     "metadata": {},
     "output_type": "execute_result"
    }
   ],
   "source": [
    "logreg_top5"
   ]
  },
  {
   "cell_type": "code",
   "execution_count": 328,
   "metadata": {},
   "outputs": [
    {
     "data": {
      "text/html": [
       "['tenure', 'TechSupport_Yes', 'StreamingTV_No', 'StreamingTV_Yes', 'PaymentMethod_Electronic check']"
      ],
      "text/plain": [
       "['tenure',\n",
       " 'TechSupport_Yes',\n",
       " 'StreamingTV_No',\n",
       " 'StreamingTV_Yes',\n",
       " 'PaymentMethod_Electronic check']"
      ]
     },
     "execution_count": 328,
     "metadata": {},
     "output_type": "execute_result"
    }
   ],
   "source": [
    "o2m_top5"
   ]
  },
  {
   "cell_type": "code",
   "execution_count": 337,
   "metadata": {},
   "outputs": [
    {
     "name": "stdout",
     "output_type": "stream",
     "text": [
      "Logreg top 2: 0.729, o2m top 2: 0.768\n"
     ]
    }
   ],
   "source": [
    "test_logreg = LogisticRegression()\n",
    "test_logreg.fit(customer_train[logreg_top2], customer_train['target'])\n",
    "\n",
    "test_o2m = LogisticRegression()\n",
    "test_o2m.fit(customer_train[o2m_top2], customer_train['target'])\n",
    "accuracy_logreg = accuracy_score(customer_test['target'].values, test_logreg.predict(customer_test[logreg_top2]))\n",
    "accuracy_o2m = accuracy_score(customer_test['target'].values, test_o2m.predict(customer_test[o2m_top2]))\n",
    "print(f\"Logreg top 2: {round(accuracy_logreg, 3)}, o2m top 2: {round(accuracy_o2m, 3)}\")"
   ]
  },
  {
   "cell_type": "code",
   "execution_count": 335,
   "metadata": {},
   "outputs": [
    {
     "name": "stdout",
     "output_type": "stream",
     "text": [
      "Logreg top 5: 0.789, o2m top 5: 0.779\n"
     ]
    }
   ],
   "source": [
    "test_logreg = LogisticRegression()\n",
    "test_logreg.fit(customer_train[logreg_top5], customer_train['target'])\n",
    "\n",
    "test_o2m = LogisticRegression()\n",
    "test_o2m.fit(customer_train[o2m_top5], customer_train['target'])\n",
    "accuracy_logreg = accuracy_score(customer_test['target'].values, test_logreg.predict(customer_test[logreg_top5]))\n",
    "accuracy_o2m = accuracy_score(customer_test['target'].values, test_o2m.predict(customer_test[o2m_top5]))\n",
    "print(f\"Logreg top 5: {round(accuracy_logreg, 3)}, o2m top 5: {round(accuracy_o2m, 3)}\")"
   ]
  },
  {
   "cell_type": "code",
   "execution_count": 338,
   "metadata": {
    "scrolled": true
   },
   "outputs": [
    {
     "name": "stdout",
     "output_type": "stream",
     "text": [
      "Logreg top 10: 0.795, o2m top 10: 0.786\n"
     ]
    },
    {
     "name": "stderr",
     "output_type": "stream",
     "text": [
      "/nfs/home/iglukhov/anaconda3/lib/python3.8/site-packages/sklearn/linear_model/_logistic.py:763: ConvergenceWarning: lbfgs failed to converge (status=1):\n",
      "STOP: TOTAL NO. of ITERATIONS REACHED LIMIT.\n",
      "\n",
      "Increase the number of iterations (max_iter) or scale the data as shown in:\n",
      "    https://scikit-learn.org/stable/modules/preprocessing.html\n",
      "Please also refer to the documentation for alternative solver options:\n",
      "    https://scikit-learn.org/stable/modules/linear_model.html#logistic-regression\n",
      "  n_iter_i = _check_optimize_result(\n"
     ]
    }
   ],
   "source": [
    "test_logreg = LogisticRegression()\n",
    "test_logreg.fit(customer_train[logreg_top10], customer_train['target'])\n",
    "\n",
    "test_o2m = LogisticRegression()\n",
    "test_o2m.fit(customer_train[o2m_top10], customer_train['target'])\n",
    "accuracy_logreg = accuracy_score(customer_test['target'].values, test_logreg.predict(customer_test[logreg_top10]))\n",
    "accuracy_o2m = accuracy_score(customer_test['target'].values, test_o2m.predict(customer_test[o2m_top10]))\n",
    "print(f\"Logreg top 10: {round(accuracy_logreg, 3)}, o2m top 10: {round(accuracy_o2m, 3)}\")"
   ]
  },
  {
   "cell_type": "code",
   "execution_count": 331,
   "metadata": {},
   "outputs": [
    {
     "data": {
      "text/plain": [
       "0.7792207792207793"
      ]
     },
     "execution_count": 331,
     "metadata": {},
     "output_type": "execute_result"
    }
   ],
   "source": [
    "test_logreg = LogisticRegression()\n",
    "logreg.fit(customer_train[o2m_top5], customer_train['target'])\n",
    "accuracy_score(customer_test['target'].values, logreg.predict(customer_test[o2m_top5]))"
   ]
  },
  {
   "cell_type": "code",
   "execution_count": null,
   "metadata": {},
   "outputs": [],
   "source": []
  }
 ],
 "metadata": {
  "kernelspec": {
   "display_name": "Python 3",
   "language": "python",
   "name": "python3"
  },
  "language_info": {
   "codemirror_mode": {
    "name": "ipython",
    "version": 3
   },
   "file_extension": ".py",
   "mimetype": "text/x-python",
   "name": "python",
   "nbconvert_exporter": "python",
   "pygments_lexer": "ipython3",
   "version": "3.8.5"
  }
 },
 "nbformat": 4,
 "nbformat_minor": 4
}
